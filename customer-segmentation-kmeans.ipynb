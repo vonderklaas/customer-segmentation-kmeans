{
 "cells": [
  {
   "cell_type": "markdown",
   "id": "94362a0e",
   "metadata": {},
   "source": [
    "# Initial Research Setup"
   ]
  },
  {
   "cell_type": "code",
   "execution_count": null,
   "id": "3d28a7ee",
   "metadata": {},
   "outputs": [],
   "source": [
    "import pandas as pd\n",
    "import matplotlib.pyplot as plt\n",
    "import seaborn as sns\n",
    "\n",
    "from sklearn.cluster import KMeans\n",
    "from sklearn.metrics import silhouette_score\n",
    "from sklearn.preprocessing import StandardScaler\n",
    "\n",
    "# Make numbers easier to read on display\n",
    "pd.options.display.float_format = \"{:20.2f}\".format\n",
    "\n",
    "# Show all columns on output\n",
    "pd.set_option(\"display.max_columns\", 999)"
   ]
  },
  {
   "cell_type": "markdown",
   "id": "07d42ca7",
   "metadata": {},
   "source": [
    "# Exploratory Data Analysis"
   ]
  },
  {
   "cell_type": "code",
   "execution_count": null,
   "id": "6327d51f",
   "metadata": {},
   "outputs": [],
   "source": [
    "df = pd.read_excel(\"./data/online_retail_II.xlsx\", sheet_name=0)\n",
    "\n",
    "df.info()\n",
    "df.head(10)"
   ]
  },
  {
   "cell_type": "code",
   "execution_count": null,
   "id": "31943839",
   "metadata": {},
   "outputs": [],
   "source": [
    "df.describe(include=\"O\")"
   ]
  },
  {
   "cell_type": "code",
   "execution_count": null,
   "id": "64bdc649",
   "metadata": {},
   "outputs": [],
   "source": [
    "df[df[\"Customer ID\"].isna()].head(10)"
   ]
  },
  {
   "cell_type": "code",
   "execution_count": null,
   "id": "3a70b9f4",
   "metadata": {},
   "outputs": [],
   "source": [
    "df[df[\"Quantity\"] < 0].head(10)"
   ]
  },
  {
   "cell_type": "code",
   "execution_count": null,
   "id": "a5ced325",
   "metadata": {},
   "outputs": [],
   "source": [
    "df[\"Invoice\"] = df[\"Invoice\"].astype(\"str\")\n",
    "\n",
    "# Regex Filter Expression (Find C for Canceled Invoices)\n",
    "df[df[\"Invoice\"].str.match(\"^\\\\d{6}$\") == False]"
   ]
  },
  {
   "cell_type": "code",
   "execution_count": null,
   "id": "e767867d",
   "metadata": {},
   "outputs": [],
   "source": [
    "# Replace Digits Filter Expression (Find Alphabetic Invoice Options)\n",
    "df[\"Invoice\"].str.replace(\"[0-9]\", \"\", regex=True).unique()"
   ]
  },
  {
   "cell_type": "code",
   "execution_count": null,
   "id": "1e409e0a",
   "metadata": {},
   "outputs": [],
   "source": [
    "df[df[\"Invoice\"].str.startswith(\"A\")]"
   ]
  },
  {
   "cell_type": "code",
   "execution_count": null,
   "id": "18847fb5",
   "metadata": {},
   "outputs": [],
   "source": [
    "df[\"StockCode\"] = df[\"StockCode\"].astype(\"str\")\n",
    "df[(df[\"StockCode\"].str.match(\"^\\\\d{5}$\") == False) &\n",
    "   (df[\"StockCode\"].str.match(\"^\\\\d{5}[a-zA-Z]+$\") == False)][\"StockCode\"].unique()"
   ]
  },
  {
   "cell_type": "markdown",
   "id": "6ea564a5",
   "metadata": {},
   "source": [
    "# Data Cleaning"
   ]
  },
  {
   "cell_type": "code",
   "execution_count": null,
   "id": "ebef7a40",
   "metadata": {},
   "outputs": [],
   "source": [
    "cleaned_df = df.copy()"
   ]
  },
  {
   "cell_type": "code",
   "execution_count": null,
   "id": "a81a6df9",
   "metadata": {},
   "outputs": [],
   "source": [
    "cleaned_df[\"Invoice\"] = cleaned_df[\"Invoice\"].astype(\"str\")\n",
    "\n",
    "# Filtering Pattern in Pandas\n",
    "mask = (\n",
    "    cleaned_df[\"Invoice\"].str.match(\"^\\\\d{6}$\") == True\n",
    ")\n",
    "\n",
    "cleaned_df = cleaned_df[mask]"
   ]
  },
  {
   "cell_type": "code",
   "execution_count": null,
   "id": "b837904e",
   "metadata": {},
   "outputs": [],
   "source": [
    "cleaned_df[\"StockCode\"] = cleaned_df[\"StockCode\"].astype(\"str\")\n",
    "\n",
    "# Filtering Pattern in Pandas\n",
    "mask = (\n",
    "    (cleaned_df[\"StockCode\"].str.match(\"^\\\\d{5}$\") == True)\n",
    "    | (cleaned_df[\"StockCode\"].str.match(\"^\\\\d{5}[a-zA-Z]+$\") == True)\n",
    "    | (cleaned_df[\"StockCode\"].str.match(\"^PADS$\") == True)\n",
    ")\n",
    "\n",
    "cleaned_df = cleaned_df[mask]"
   ]
  },
  {
   "cell_type": "code",
   "execution_count": null,
   "id": "0836c313",
   "metadata": {},
   "outputs": [],
   "source": [
    "cleaned_df.dropna(subset=[\"Customer ID\"], inplace=True)"
   ]
  },
  {
   "cell_type": "code",
   "execution_count": null,
   "id": "7de2804b",
   "metadata": {},
   "outputs": [],
   "source": [
    "cleaned_df = cleaned_df[cleaned_df[\"Price\"] > 0.0]"
   ]
  },
  {
   "cell_type": "code",
   "execution_count": null,
   "id": "da3bcc0e",
   "metadata": {},
   "outputs": [],
   "source": [
    "# What is the % of data did we loose during our cleaning process?\n",
    "len(cleaned_df) / len(df)"
   ]
  },
  {
   "cell_type": "markdown",
   "id": "b8dfa96c",
   "metadata": {},
   "source": [
    "# Feature Engineering"
   ]
  },
  {
   "cell_type": "code",
   "execution_count": null,
   "id": "c689991e",
   "metadata": {},
   "outputs": [],
   "source": [
    "cleaned_df[\"SalesLineTotal\"] = cleaned_df[\"Quantity\"] * cleaned_df[\"Price\"]"
   ]
  },
  {
   "cell_type": "code",
   "execution_count": null,
   "id": "ac79e7c6",
   "metadata": {},
   "outputs": [],
   "source": [
    "aggregated_df = cleaned_df.groupby(by=\"Customer ID\", as_index=False) \\\n",
    "    .agg(\n",
    "        MonetaryValue = (\"SalesLineTotal\", \"sum\"),\n",
    "        Frequency=(\"Invoice\", \"nunique\"),\n",
    "        LastInvoiceDate=(\"InvoiceDate\", \"max\")\n",
    "    )\n",
    "\n",
    "aggregated_df.head(5)"
   ]
  },
  {
   "cell_type": "code",
   "execution_count": null,
   "id": "105981b6",
   "metadata": {},
   "outputs": [],
   "source": [
    "max_invoice_date = aggregated_df[\"LastInvoiceDate\"].max()\n",
    "\n",
    "aggregated_df[\"Recency\"] = (max_invoice_date - aggregated_df[\"LastInvoiceDate\"]).dt.days\n",
    "\n",
    "aggregated_df.head(5)"
   ]
  },
  {
   "cell_type": "code",
   "execution_count": null,
   "id": "19c4dd38",
   "metadata": {},
   "outputs": [],
   "source": [
    "plt.figure(figsize=(15, 5))\n",
    "\n",
    "plt.subplot(1, 3, 1)\n",
    "plt.hist(aggregated_df[\"MonetaryValue\"], bins=10, color=\"skyblue\", edgecolor=\"black\")\n",
    "plt.title(\"Monetary Value Distribution\")\n",
    "plt.xlabel(\"Monetary Value\")\n",
    "plt.ylabel(\"Count\")\n",
    "\n",
    "plt.subplot(1, 3, 2)\n",
    "plt.hist(aggregated_df[\"Frequency\"], bins=10, color=\"lightgreen\", edgecolor=\"black\")\n",
    "plt.title(\"Frequency Distribution\")\n",
    "plt.xlabel(\"Frequency\")\n",
    "plt.ylabel(\"Count\")\n",
    "\n",
    "plt.subplot(1, 3, 3)\n",
    "plt.hist(aggregated_df[\"Recency\"], bins=10, color=\"salmon\", edgecolor=\"black\")\n",
    "plt.title(\"Recency Distribution\")\n",
    "plt.xlabel(\"Recency\")\n",
    "plt.ylabel(\"Count\")\n",
    "\n",
    "plt.tight_layout()\n",
    "plt.show()"
   ]
  },
  {
   "cell_type": "code",
   "execution_count": null,
   "id": "ea3e8be2",
   "metadata": {},
   "outputs": [],
   "source": [
    "plt.figure(figsize=(15, 5))\n",
    "\n",
    "plt.subplot(1, 3, 1)\n",
    "sns.boxplot(data=aggregated_df[\"MonetaryValue\"], color=\"skyblue\")\n",
    "plt.title(\"Monetary Value Boxplot\")\n",
    "plt.xlabel(\"Monetary Value\")\n",
    "\n",
    "plt.subplot(1, 3, 2)\n",
    "sns.boxplot(data=aggregated_df[\"Frequency\"], color=\"lightgreen\")\n",
    "plt.title(\"Frequency Boxplot\")\n",
    "plt.xlabel(\"Frequency\")\n",
    "\n",
    "plt.subplot(1, 3, 3)\n",
    "sns.boxplot(data=aggregated_df[\"Recency\"], color=\"salmon\")\n",
    "plt.title(\"Recency Boxplot\")\n",
    "plt.xlabel(\"Recency\")\n",
    "\n",
    "plt.tight_layout()\n",
    "plt.show()"
   ]
  },
  {
   "cell_type": "code",
   "execution_count": null,
   "id": "159952fe",
   "metadata": {},
   "outputs": [],
   "source": [
    "# Data Outliers\n",
    "M_Q1 = aggregated_df[\"MonetaryValue\"].quantile(0.25)\n",
    "M_Q3 = aggregated_df[\"MonetaryValue\"].quantile(0.75)\n",
    "M_IQR = M_Q3 - M_Q1\n",
    "\n",
    "# Filter Data Outliers\n",
    "monetary_outliers_df = aggregated_df[(aggregated_df[\"MonetaryValue\"] > (M_Q3 + 1.5 * M_IQR)) | (aggregated_df[\"MonetaryValue\"] < (M_Q1 - 1.5 * M_IQR))].copy()\n",
    "\n",
    "monetary_outliers_df.describe()"
   ]
  },
  {
   "cell_type": "code",
   "execution_count": null,
   "id": "54d8dd47",
   "metadata": {},
   "outputs": [],
   "source": [
    "# Data Outliers\n",
    "F_Q1 = aggregated_df[\"Frequency\"].quantile(0.25)\n",
    "F_Q3 = aggregated_df[\"Frequency\"].quantile(0.75)\n",
    "F_IQR = F_Q3 - F_Q1\n",
    "\n",
    "# Filter Data Outliers\n",
    "frequency_outliers_df = aggregated_df[(aggregated_df[\"Frequency\"] > (F_Q3 + 1.5 * F_IQR)) | (aggregated_df[\"Frequency\"] < (F_Q1 - 1.5 * F_IQR))].copy()\n",
    "\n",
    "frequency_outliers_df.describe()"
   ]
  },
  {
   "cell_type": "code",
   "execution_count": null,
   "id": "7378548e",
   "metadata": {},
   "outputs": [],
   "source": [
    "non_outliers_df = aggregated_df[(~aggregated_df.index.isin(monetary_outliers_df.index)) & (~aggregated_df.index.isin(frequency_outliers_df.index))]\n",
    "\n",
    "non_outliers_df.describe()"
   ]
  },
  {
   "cell_type": "code",
   "execution_count": null,
   "id": "df3defdc",
   "metadata": {},
   "outputs": [],
   "source": [
    "plt.figure(figsize=(15, 5))\n",
    "\n",
    "plt.subplot(1, 3, 1)\n",
    "sns.boxplot(data=non_outliers_df[\"MonetaryValue\"], color=\"skyblue\")\n",
    "plt.title(\"Monetary Value Boxplot\")\n",
    "plt.xlabel(\"Monetary Value\")\n",
    "\n",
    "plt.subplot(1, 3, 2)\n",
    "sns.boxplot(data=non_outliers_df[\"Frequency\"], color=\"lightgreen\")\n",
    "plt.title(\"Frequency Boxplot\")\n",
    "plt.xlabel(\"Frequency\")\n",
    "\n",
    "plt.subplot(1, 3, 3)\n",
    "sns.boxplot(data=non_outliers_df[\"Recency\"], color=\"salmon\")\n",
    "plt.title(\"Recency Boxplot\")\n",
    "plt.xlabel(\"Recency\")\n",
    "\n",
    "plt.tight_layout()\n",
    "plt.show()"
   ]
  },
  {
   "cell_type": "code",
   "execution_count": null,
   "id": "40021672",
   "metadata": {},
   "outputs": [],
   "source": [
    "fig = plt.figure(figsize=(8, 8))\n",
    "\n",
    "ax = fig.add_subplot(projection=\"3d\")\n",
    "\n",
    "scatter = ax.scatter(non_outliers_df[\"MonetaryValue\"], non_outliers_df[\"Frequency\"], non_outliers_df[\"Recency\"])\n",
    "\n",
    "ax.set_xlabel(\"MonetaryValue\")\n",
    "ax.set_ylabel(\"Frequency\")\n",
    "ax.set_zlabel(\"Recency\")\n",
    "\n",
    "ax.set_title(\"3D Scatter Plot of Customer Data\")"
   ]
  },
  {
   "cell_type": "markdown",
   "id": "66fbebc0",
   "metadata": {},
   "source": [
    "Standard scaling transforms the features of your data to have a mean of 0 and a standard deviation of 1,\n",
    "ensuring that each feature contributes equally to the analysis\n",
    "\n",
    "$$\n",
    "z = \\frac{x - \\mu}{\\sigma}\n",
    "$$\n",
    "\n",
    "Where:\n",
    "- $z$ is the standardized value,\n",
    "- $x$ is the original value,\n",
    "- $\\mu$ is the mean of the feature,\n",
    "- $\\sigma$ is the standard deviation of the feature."
   ]
  },
  {
   "cell_type": "code",
   "execution_count": null,
   "id": "f3812165",
   "metadata": {},
   "outputs": [],
   "source": [
    "scaler = StandardScaler()\n",
    "\n",
    "scaled_data = scaler.fit_transform(non_outliers_df[[\"MonetaryValue\", \"Frequency\", \"Recency\"]])\n",
    "\n",
    "# Convert to DF from NumPy array\n",
    "scaled_data_df = pd.DataFrame(scaled_data, index=non_outliers_df.index, columns=(\"MonetaryValue\", \"Frequency\", \"Recency\"))\n",
    "\n",
    "scaled_data_df"
   ]
  },
  {
   "cell_type": "code",
   "execution_count": null,
   "id": "4772cc40",
   "metadata": {},
   "outputs": [],
   "source": [
    "fig = plt.figure(figsize=(8, 8))\n",
    "\n",
    "ax = fig.add_subplot(projection=\"3d\")\n",
    "\n",
    "scatter = ax.scatter(scaled_data_df[\"MonetaryValue\"], scaled_data_df[\"Frequency\"], scaled_data_df[\"Recency\"])\n",
    "\n",
    "ax.set_xlabel(\"MonetaryValue\")\n",
    "ax.set_ylabel(\"Frequency\")\n",
    "ax.set_zlabel(\"Recency\")\n",
    "\n",
    "ax.set_title(\"3D Scatter Plot of Customer Data\")"
   ]
  },
  {
   "cell_type": "markdown",
   "id": "da08c0c5",
   "metadata": {},
   "source": [
    "# KMeans Clustering"
   ]
  },
  {
   "cell_type": "code",
   "execution_count": null,
   "id": "4f9c97e9",
   "metadata": {},
   "outputs": [],
   "source": [
    "max_k = 12\n",
    "\n",
    "inertia = []\n",
    "silhoutte_scores = []\n",
    "k_values = range(2, max_k + 1)\n",
    "\n",
    "for k in k_values:\n",
    "\n",
    "    kmeans = KMeans(n_clusters=k, random_state=42, max_iter=1000)\n",
    "\n",
    "    cluster_labels = kmeans.fit_predict(scaled_data_df)\n",
    "\n",
    "    sil_score = silhouette_score(scaled_data_df, cluster_labels)\n",
    "\n",
    "    silhoutte_scores.append(sil_score)\n",
    "\n",
    "    inertia.append(kmeans.inertia_)\n",
    "\n",
    "plt.figure(figsize=(14, 6))\n",
    "\n",
    "plt.subplot(1, 2, 1)\n",
    "plt.plot(k_values, inertia, marker='o')\n",
    "plt.title('KMeans Inertia for Different Values of k')\n",
    "plt.xlabel('Number of Clusters (k)')\n",
    "plt.ylabel('Inertia')\n",
    "plt.xticks(k_values)\n",
    "plt.grid(True)\n",
    "\n",
    "plt.subplot(1, 2, 2)\n",
    "plt.plot(k_values, silhoutte_scores, marker='o', color='orange')\n",
    "plt.title('Silhouette Scores for Different Values of k')\n",
    "plt.xlabel('Number of Clusters (k)')\n",
    "plt.ylabel('Silhouette Score')\n",
    "plt.xticks(k_values)\n",
    "plt.grid(True)\n",
    "\n",
    "plt.tight_layout()\n",
    "plt.show()"
   ]
  },
  {
   "cell_type": "markdown",
   "id": "24844ff9",
   "metadata": {},
   "source": [
    "### Silhouette Score\n",
    "\n",
    "$$\n",
    "s(i) = \\frac{b(i) - a(i)}{\\max(a(i), b(i))}\n",
    "$$\n",
    "\n",
    "Where:\n",
    "- $s(i)$ is the silhouette score for a single sample $i$\n",
    "- $a(i)$ is the average distance between $i$ and all other points in the same cluster,\n",
    "- $b(i)$ is the minimum average distance between $i$ and all points in the nearest cluster to which $i$ does not belong.\n",
    "\n",
    "The silhoutte score ranges between $[-1, 1]$, a higher value indicates more distinct clusters."
   ]
  },
  {
   "cell_type": "code",
   "execution_count": null,
   "id": "bf4b7a9e",
   "metadata": {},
   "outputs": [],
   "source": [
    "kmeans = KMeans(n_clusters=4, random_state=42, max_iter=1000)\n",
    "\n",
    "cluster_labels = kmeans.fit_predict(scaled_data_df)\n",
    "\n",
    "cluster_labels"
   ]
  },
  {
   "cell_type": "code",
   "execution_count": null,
   "id": "bb4d2bee",
   "metadata": {},
   "outputs": [],
   "source": [
    "non_outliers_df[\"Cluster\"] = cluster_labels\n",
    "\n",
    "non_outliers_df"
   ]
  },
  {
   "cell_type": "code",
   "execution_count": null,
   "id": "12ac4903",
   "metadata": {},
   "outputs": [],
   "source": [
    "cluster_colors = {0: '#1f77b4', 1: '#ff7f0e', 2: '#2ca02c', 3: '#d62728'}\n",
    "\n",
    "colors = non_outliers_df['Cluster'].map(cluster_colors)\n",
    "\n",
    "fig = plt.figure(figsize=(10, 10))\n",
    "ax = fig.add_subplot(projection='3d')\n",
    "\n",
    "scatter = ax.scatter(non_outliers_df['MonetaryValue'], \n",
    "                     non_outliers_df['Frequency'], \n",
    "                     non_outliers_df['Recency'], \n",
    "                     c=colors,  # Use mapped solid colors\n",
    "                     marker='o')\n",
    "\n",
    "ax.set_xlabel('Monetary Value')\n",
    "ax.set_ylabel('Frequency')\n",
    "ax.set_zlabel('Recency')\n",
    "\n",
    "ax.set_title('3D Scatter Plot of Customer Data by Cluster')\n",
    "\n",
    "plt.show()"
   ]
  },
  {
   "cell_type": "code",
   "execution_count": null,
   "id": "974dec29",
   "metadata": {},
   "outputs": [],
   "source": [
    "plt.figure(figsize=(12, 18))\n",
    "\n",
    "plt.subplot(3, 1, 1)\n",
    "sns.violinplot(x=non_outliers_df['Cluster'], y=non_outliers_df['MonetaryValue'], palette=cluster_colors, hue=non_outliers_df[\"Cluster\"])\n",
    "sns.violinplot(y=non_outliers_df['MonetaryValue'], color='gray', linewidth=1.0)\n",
    "plt.title('Monetary Value by Cluster')\n",
    "plt.ylabel('Monetary Value')\n",
    "\n",
    "plt.subplot(3, 1, 2)\n",
    "sns.violinplot(x=non_outliers_df['Cluster'], y=non_outliers_df['Frequency'], palette=cluster_colors, hue=non_outliers_df[\"Cluster\"])\n",
    "sns.violinplot(y=non_outliers_df['Frequency'], color='gray', linewidth=1.0)\n",
    "plt.title('Frequency by Cluster')\n",
    "plt.ylabel('Frequency')\n",
    "\n",
    "\n",
    "plt.subplot(3, 1, 3)\n",
    "sns.violinplot(x=non_outliers_df['Cluster'], y=non_outliers_df['Recency'], palette=cluster_colors, hue=non_outliers_df[\"Cluster\"])\n",
    "sns.violinplot(y=non_outliers_df['Recency'], color='gray', linewidth=1.0)\n",
    "plt.title('Recency by Cluster')\n",
    "plt.ylabel('Recency')\n",
    "\n",
    "plt.tight_layout()\n",
    "plt.show()"
   ]
  },
  {
   "cell_type": "markdown",
   "id": "59c83c7b",
   "metadata": {},
   "source": [
    "1. Cluster 0 (Blue): \"Retain\"\n",
    "* Rationale: This cluster represents high-value customers who purchase regularly, though not always very recently. The focus should be on retention efforts to maintain their loyalty and spending levels.\n",
    "* Action: Implement loyalty programs, personalized offers, and regular engagement to ensure they remain active.\n",
    "\n",
    "2. Cluster 1 (Orange): \"Re-Engage\"\n",
    "* Rationale: This group includes lower-value, infrequent buyers who haven’t purchased recently. The focus should be on re-engagement to bring them back into active purchasing behavior.\n",
    "* Action: Use targeted marketing campaigns, special discounts, or reminders to encourage them to return and purchase again.\n",
    "\n",
    "3. Cluster 2 (Green): \"Nurture\"\n",
    "* Rationale: This cluster represents the least active and lowest-value customers, but they have made recent purchases. These customers may be new or need nurturing to increase their engagement and spending.\n",
    "* Action: Focus on building relationships, providing excellent customer service, and offering incentives to encourage more frequent purchases.\n",
    "\n",
    "4. Cluster 3 (Red): \"Reward\"\n",
    "* Rationale: This cluster includes high-value, very frequent buyers, many of whom are still actively purchasing. They are your most loyal customers, and rewarding their loyalty is key to maintaining their engagement.\n",
    "* Action: Implement a robust loyalty program, provide exclusive offers, and recognize their loyalty to keep them engaged and satisfied.\n",
    "\n",
    "**Summary of Cluster Names:**\n",
    "\n",
    "* Cluster 0 (Blue): \"Retain\"\n",
    "* Cluster 1 (Orange): \"Re-Engage\"\n",
    "* Cluster 2 (Green): \"Nurture\"\n",
    "* Cluster 3 (Red): \"Reward\""
   ]
  },
  {
   "cell_type": "code",
   "execution_count": null,
   "id": "d458a612",
   "metadata": {},
   "outputs": [],
   "source": [
    "overlap_indices = monetary_outliers_df.index.intersection(frequency_outliers_df.index)\n",
    "\n",
    "monetary_only_outliers = monetary_outliers_df.drop(overlap_indices)\n",
    "frequency_only_outliers = frequency_outliers_df.drop(overlap_indices)\n",
    "monetary_and_frequency_outliers = monetary_outliers_df.loc[overlap_indices]\n",
    "\n",
    "monetary_only_outliers[\"Cluster\"] = -1\n",
    "frequency_only_outliers[\"Cluster\"] = -2\n",
    "monetary_and_frequency_outliers[\"Cluster\"] = -3\n",
    "\n",
    "outlier_clusters_df = pd.concat([monetary_only_outliers, frequency_only_outliers, monetary_and_frequency_outliers])\n",
    "\n",
    "outlier_clusters_df"
   ]
  },
  {
   "cell_type": "code",
   "execution_count": null,
   "id": "6da05029",
   "metadata": {},
   "outputs": [],
   "source": [
    "cluster_colors = {-1: '#9467bd',\n",
    "                  -2: '#8c564b',\n",
    "                  -3: '#e377c2'}\n",
    "\n",
    "plt.figure(figsize=(12, 18))\n",
    "\n",
    "plt.subplot(3, 1, 1)\n",
    "sns.violinplot(x=outlier_clusters_df['Cluster'], y=outlier_clusters_df['MonetaryValue'], palette=cluster_colors, hue=outlier_clusters_df[\"Cluster\"])\n",
    "sns.violinplot(y=outlier_clusters_df['MonetaryValue'], color='gray', linewidth=1.0)\n",
    "plt.title('Monetary Value by Cluster')\n",
    "plt.ylabel('Monetary Value')\n",
    "\n",
    "plt.subplot(3, 1, 2)\n",
    "sns.violinplot(x=outlier_clusters_df['Cluster'], y=outlier_clusters_df['Frequency'], palette=cluster_colors, hue=outlier_clusters_df[\"Cluster\"])\n",
    "sns.violinplot(y=outlier_clusters_df['Frequency'], color='gray', linewidth=1.0)\n",
    "plt.title('Frequency by Cluster')\n",
    "plt.ylabel('Frequency')\n",
    "\n",
    "plt.subplot(3, 1, 3)\n",
    "sns.violinplot(x=outlier_clusters_df['Cluster'], y=outlier_clusters_df['Recency'], palette=cluster_colors, hue=outlier_clusters_df[\"Cluster\"])\n",
    "sns.violinplot(y=outlier_clusters_df['Recency'], color='gray', linewidth=1.0)\n",
    "plt.title('Recency by Cluster')\n",
    "plt.ylabel('Recency')\n",
    "\n",
    "plt.tight_layout()\n",
    "plt.show()"
   ]
  },
  {
   "cell_type": "markdown",
   "id": "9d5d6cd9",
   "metadata": {},
   "source": [
    "* Cluster -1 (Monetary Outliers) PAMPER:\n",
    "Characteristics: High spenders but not necessarily frequent buyers. Their purchases are large but infrequent.\n",
    "Potential Strategy: Focus on maintaining their loyalty with personalized offers or luxury services that cater to their high spending capacity.\n",
    "\n",
    "* Cluster -2 (Frequency Outliers) UPSELL:\n",
    "Characteristics: Frequent buyers who spend less per purchase. These customers are consistently engaged but might benefit from upselling opportunities.\n",
    "Potential Strategy: Implement loyalty programs or bundle deals to encourage higher spending per visit, given their frequent engagement.\n",
    "\n",
    "* Cluster -3 (Monetary & Frequency Outliers) DELIGHT:\n",
    "Characteristics: The most valuable outliers, with extreme spending and frequent purchases. They are likely your top-tier customers who require special attention.\n",
    "Potential Strategy: Develop VIP programs or exclusive offers to maintain their loyalty and encourage continued engagement."
   ]
  },
  {
   "cell_type": "code",
   "execution_count": null,
   "id": "06b1bbc4",
   "metadata": {},
   "outputs": [],
   "source": [
    "cluster_labels = {\n",
    "    0: \"RETAIN\",\n",
    "    1: \"RE-ENGAGE\",\n",
    "    2: \"NURTURE\",\n",
    "    3: \"REWARD\",\n",
    "    -1: \"PAMPER\",\n",
    "    -2: \"UPSELL\",\n",
    "    -3: \"DELIGHT\"\n",
    "}"
   ]
  },
  {
   "cell_type": "code",
   "execution_count": null,
   "id": "b9101d9c",
   "metadata": {},
   "outputs": [],
   "source": [
    "full_clustering_df = pd.concat([non_outliers_df, outlier_clusters_df])\n",
    "\n",
    "full_clustering_df[\"ClusterLabel\"] = full_clustering_df[\"Cluster\"].map(cluster_labels)\n",
    "\n",
    "full_clustering_df"
   ]
  },
  {
   "cell_type": "markdown",
   "id": "a9873fcf",
   "metadata": {},
   "source": [
    "# Final Visualisation"
   ]
  },
  {
   "cell_type": "code",
   "execution_count": null,
   "id": "7c7db9fa",
   "metadata": {},
   "outputs": [],
   "source": [
    "cluster_counts = full_clustering_df['ClusterLabel'].value_counts()\n",
    "full_clustering_df[\"MonetaryValue per 100 pounds\"] = full_clustering_df[\"MonetaryValue\"] / 100.00\n",
    "feature_means = full_clustering_df.groupby('ClusterLabel')[['Recency', 'Frequency', 'MonetaryValue per 100 pounds']].mean()\n",
    "\n",
    "fig, ax1 = plt.subplots(figsize=(12, 8))\n",
    "\n",
    "sns.barplot(x=cluster_counts.index, y=cluster_counts.values, ax=ax1, palette='viridis', hue=cluster_counts.index)\n",
    "ax1.set_ylabel('Number of Customers', color='b')\n",
    "ax1.set_title('Cluster Distribution with Average Feature Values')\n",
    "\n",
    "ax2 = ax1.twinx()\n",
    "\n",
    "sns.lineplot(data=feature_means, ax=ax2, palette='Set2', marker='o')\n",
    "ax2.set_ylabel('Average Value', color='g')\n",
    "\n",
    "plt.show()"
   ]
  }
 ],
 "metadata": {
  "kernelspec": {
   "display_name": "venv",
   "language": "python",
   "name": "python3"
  },
  "language_info": {
   "codemirror_mode": {
    "name": "ipython",
    "version": 3
   },
   "file_extension": ".py",
   "mimetype": "text/x-python",
   "name": "python",
   "nbconvert_exporter": "python",
   "pygments_lexer": "ipython3",
   "version": "3.13.3"
  }
 },
 "nbformat": 4,
 "nbformat_minor": 5
}
